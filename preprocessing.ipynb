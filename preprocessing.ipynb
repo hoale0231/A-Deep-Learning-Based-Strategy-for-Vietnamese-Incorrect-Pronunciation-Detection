{
 "cells": [
  {
   "cell_type": "code",
   "execution_count": 1,
   "metadata": {},
   "outputs": [],
   "source": [
    "import pandas as pd\n",
    "import json"
   ]
  },
  {
   "cell_type": "code",
   "execution_count": 2,
   "metadata": {},
   "outputs": [],
   "source": [
    "train = pd.read_csv('Data/train.csv')\n",
    "dev = pd.read_csv('Data/dev.csv')\n",
    "test = pd.read_csv('Data/test.csv')\n",
    "label_train = pd.read_csv('Data/label_train.csv')\n",
    "label_valid = pd.read_csv('Data/label_valid.csv')\n",
    "label_test = pd.read_csv('Data/label_test.csv')"
   ]
  },
  {
   "cell_type": "code",
   "execution_count": 3,
   "metadata": {},
   "outputs": [],
   "source": [
    "text = list(train.text) + list(test.text) + list(dev.text) + list(label_test.text) + list(label_train.text) + list(label_valid.text)"
   ]
  },
  {
   "cell_type": "code",
   "execution_count": 4,
   "metadata": {},
   "outputs": [
    {
     "data": {
      "text/plain": [
       "5732"
      ]
     },
     "execution_count": 4,
     "metadata": {},
     "output_type": "execute_result"
    }
   ],
   "source": [
    "vocab_word = set(' '.join(text).split(' '))\n",
    "vocab_word.remove('')\n",
    "len(vocab_word)"
   ]
  },
  {
   "cell_type": "code",
   "execution_count": 5,
   "metadata": {},
   "outputs": [],
   "source": [
    "print(sorted(vocab_word), file=open('vocab.txt', 'w'))"
   ]
  },
  {
   "cell_type": "code",
   "execution_count": 6,
   "metadata": {},
   "outputs": [],
   "source": [
    "phone_map = json.load(open('Data/phone_map.json'))"
   ]
  },
  {
   "cell_type": "code",
   "execution_count": 7,
   "metadata": {},
   "outputs": [],
   "source": [
    "train = train[train.text.map(lambda x: all([w in phone_map for w in x.split()]))]\n",
    "test = test[test.text.map(lambda x: all([w in phone_map for w in x.split()]))]\n",
    "dev = dev[dev.text.map(lambda x: all([w in phone_map for w in x.split()]))]\n",
    "label_train = label_train[label_train.text.map(lambda x: all([w in phone_map for w in x.split()]))]\n",
    "label_test = label_test[label_test.text.map(lambda x: all([w in phone_map for w in x.split()]))]\n",
    "label_valid = label_valid[label_valid.text.map(lambda x: all([w in phone_map for w in x.split()]))]"
   ]
  },
  {
   "cell_type": "code",
   "execution_count": 8,
   "metadata": {},
   "outputs": [],
   "source": [
    "train.to_csv('Data/train.csv',index=False)\n",
    "test.to_csv('Data/test.csv',index=False)\n",
    "dev.to_csv('Data/dev.csv',index=False)\n",
    "label_train.to_csv('Data/label_train.csv',index=False)\n",
    "label_test.to_csv('Data/label_test.csv',index=False)\n",
    "label_valid.to_csv('Data/label_valid.csv',index=False)"
   ]
  },
  {
   "cell_type": "code",
   "execution_count": 9,
   "metadata": {},
   "outputs": [],
   "source": [
    "text_ = list(train.text) + list(test.text) + list(dev.text) + list(label_test.text) + list(label_train.text) + list(label_valid.text)"
   ]
  },
  {
   "cell_type": "code",
   "execution_count": 10,
   "metadata": {},
   "outputs": [
    {
     "data": {
      "text/plain": [
       "(47832, 47712)"
      ]
     },
     "execution_count": 10,
     "metadata": {},
     "output_type": "execute_result"
    }
   ],
   "source": [
    "len(text), len(text_) + 322"
   ]
  },
  {
   "cell_type": "code",
   "execution_count": null,
   "metadata": {},
   "outputs": [],
   "source": [
    "vocab_word = sorted(vocab_word)\n",
    "vocab_word"
   ]
  },
  {
   "cell_type": "code",
   "execution_count": 40,
   "metadata": {},
   "outputs": [
    {
     "name": "stdout",
     "output_type": "stream",
     "text": [
      "0\n"
     ]
    }
   ],
   "source": [
    "count = 0\n",
    "for t in text_:\n",
    "    for w in t.split():\n",
    "        if w not in phone_map:\n",
    "            print(w, t)\n",
    "            count += 1\n",
    "print(count)"
   ]
  },
  {
   "cell_type": "code",
   "execution_count": 10,
   "metadata": {},
   "outputs": [],
   "source": [
    "import pandas as pd\n",
    "rs = pd.read_csv('Data/result.csv')"
   ]
  },
  {
   "cell_type": "code",
   "execution_count": 11,
   "metadata": {},
   "outputs": [],
   "source": [
    "score = ' '.join(list(rs.score))\n",
    "predict = ' '.join(list(rs.score_predict))"
   ]
  },
  {
   "cell_type": "code",
   "execution_count": 12,
   "metadata": {},
   "outputs": [],
   "source": [
    "score = score.split()\n",
    "predict = predict.split()\n",
    "score = [int(i) for i in score]\n",
    "predict = [int(i) for i in predict]"
   ]
  },
  {
   "cell_type": "code",
   "execution_count": 8,
   "metadata": {},
   "outputs": [
    {
     "data": {
      "text/plain": [
       "(0.723823975720789, 0.5539215686274509, 0.5707070707070707, 0.5380952380952381)"
      ]
     },
     "execution_count": 8,
     "metadata": {},
     "output_type": "execute_result"
    }
   ],
   "source": [
    "from sklearn.metrics import f1_score, precision_score, recall_score, accuracy_score, auc\n",
    "accuracy_score(score, predict), f1_score(score, predict, pos_label=0), recall_score(score, predict, pos_label=0), precision_score(score, predict, pos_label=0)"
   ]
  },
  {
   "cell_type": "code",
   "execution_count": 13,
   "metadata": {},
   "outputs": [
    {
     "data": {
      "text/plain": [
       "(0.6419995099240382,\n",
       " 0.40342997141690484,\n",
       " 0.4651600753295669,\n",
       " 0.3561643835616438)"
      ]
     },
     "execution_count": 13,
     "metadata": {},
     "output_type": "execute_result"
    }
   ],
   "source": [
    "accuracy_score(score, predict), f1_score(score, predict, pos_label=0), recall_score(score, predict, pos_label=0), precision_score(score, predict, pos_label=0)"
   ]
  },
  {
   "cell_type": "code",
   "execution_count": null,
   "metadata": {},
   "outputs": [],
   "source": [
    "# pretrain\n",
    "# L2\n",
    "acc = 0.5918057663125948\n",
    "f1 = 0.49340866290018837\n",
    "recall = 0.6616161616161617\n",
    "precision = 0.3933933933933934\n",
    "\n",
    "# L1\n",
    "acc = 0.8680138357910068\n",
    "f1 = 0.8802642444260942\n",
    "recall = 0.9877687175685693\n",
    "precision = 0.7938635686624963"
   ]
  },
  {
   "cell_type": "code",
   "execution_count": null,
   "metadata": {},
   "outputs": [],
   "source": [
    "# finetune\n",
    "# L2\n",
    "acc = 0.723823975720789\n",
    "f1 = 0.5539215686274509\n",
    "recall = 0.5707070707070707\n",
    "precision = 0.5380952380952381\n",
    "\n",
    "# L1\n",
    "acc = 0.787001638448935\n",
    "f1 = 0.7868075801749271\n",
    "recall = 0.7868075801749271\n",
    "precision = 0.7868075801749271"
   ]
  },
  {
   "cell_type": "code",
   "execution_count": null,
   "metadata": {},
   "outputs": [],
   "source": [
    "# Not pretrain\n",
    "# L2\n",
    "acc = 0.6676783004552352\n",
    "f1 = 0.4697336561743341\n",
    "recall = 0.4898989898989899\n",
    "precision = 0.4511627906976744\n",
    "\n",
    "# L1\n",
    "acc = 0.5335335335335335\n",
    "f1 = 0.47991071428571436\n",
    "recall = 0.42574257425742573\n",
    "precision = 0.5498721227621484"
   ]
  }
 ],
 "metadata": {
  "kernelspec": {
   "display_name": "kaldi",
   "language": "python",
   "name": "python3"
  },
  "language_info": {
   "codemirror_mode": {
    "name": "ipython",
    "version": 3
   },
   "file_extension": ".py",
   "mimetype": "text/x-python",
   "name": "python",
   "nbconvert_exporter": "python",
   "pygments_lexer": "ipython3",
   "version": "3.9.16"
  },
  "orig_nbformat": 4,
  "vscode": {
   "interpreter": {
    "hash": "84c9d296956677644935b55d45a0eb4f2c4d6440041c253e7da783fe8a333394"
   }
  }
 },
 "nbformat": 4,
 "nbformat_minor": 2
}
